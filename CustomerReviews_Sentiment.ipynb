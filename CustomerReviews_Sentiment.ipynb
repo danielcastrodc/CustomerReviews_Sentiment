{
  "nbformat": 4,
  "nbformat_minor": 0,
  "metadata": {
    "kernelspec": {
      "name": "python3",
      "display_name": "Python 3"
    },
    "colab": {
      "name": "CustomerReviews_Sentiment.ipynb",
      "provenance": [],
      "collapsed_sections": []
    }
  },
  "cells": [
    {
      "cell_type": "markdown",
      "metadata": {
        "id": "QH6w8U-B0wjG"
      },
      "source": [
        "# Customer Reviews - Sentiment Classification\n",
        "\n",
        "- [Daniel, Castro]\n",
        "- [February 28, 2021]"
      ]
    },
    {
      "cell_type": "markdown",
      "metadata": {
        "id": "BKXEVrQb0wjQ"
      },
      "source": [
        "# Sentiment Analysis via the ML-based approach\n",
        "\n",
        "Download the “Product Sentiment” dataset from the course portal: sentiment_train.csv and sentiment_test.csv."
      ]
    },
    {
      "cell_type": "markdown",
      "metadata": {
        "id": "KP2U0xP20wjR"
      },
      "source": [
        "### Part 1.a. Loading and Prep\n",
        "\n",
        "Load, clean, and preprocess the data as you find necessary."
      ]
    },
    {
      "cell_type": "code",
      "metadata": {
        "colab": {
          "resources": {
            "http://localhost:8080/nbextensions/google.colab/files.js": {
              "data": "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",
              "ok": true,
              "headers": [
                [
                  "content-type",
                  "application/javascript"
                ]
              ],
              "status": 200,
              "status_text": ""
            }
          },
          "base_uri": "https://localhost:8080/",
          "height": 106
        },
        "id": "NHue32Ec7bMD",
        "outputId": "a91c1554-b258-4d38-bb97-8cef12ff2a99"
      },
      "source": [
        "from google.colab import files\n",
        "uploaded = files.upload()"
      ],
      "execution_count": null,
      "outputs": [
        {
          "output_type": "display_data",
          "data": {
            "text/html": [
              "\n",
              "     <input type=\"file\" id=\"files-a480a135-911d-41d1-8bf5-cb12e9bd6eb6\" name=\"files[]\" multiple disabled\n",
              "        style=\"border:none\" />\n",
              "     <output id=\"result-a480a135-911d-41d1-8bf5-cb12e9bd6eb6\">\n",
              "      Upload widget is only available when the cell has been executed in the\n",
              "      current browser session. Please rerun this cell to enable.\n",
              "      </output>\n",
              "      <script src=\"/nbextensions/google.colab/files.js\"></script> "
            ],
            "text/plain": [
              "<IPython.core.display.HTML object>"
            ]
          },
          "metadata": {
            "tags": []
          }
        },
        {
          "output_type": "stream",
          "text": [
            "Saving sentiment_test.csv to sentiment_test.csv\n",
            "Saving sentiment_train.csv to sentiment_train.csv\n"
          ],
          "name": "stdout"
        }
      ]
    },
    {
      "cell_type": "code",
      "metadata": {
        "colab": {
          "base_uri": "https://localhost:8080/"
        },
        "id": "ulbYtZRZ8Wtf",
        "outputId": "6504cc8c-1136-403e-b221-bb1567561f40"
      },
      "source": [
        "!pip install autocorrect"
      ],
      "execution_count": null,
      "outputs": [
        {
          "output_type": "stream",
          "text": [
            "Collecting autocorrect\n",
            "\u001b[?25l  Downloading https://files.pythonhosted.org/packages/16/a8/1fc332535fc26db807fa48bdb54070355b83a36c797451c3d563bc190fa8/autocorrect-2.3.0.tar.gz (621kB)\n",
            "\u001b[K     |████████████████████████████████| 624kB 7.7MB/s \n",
            "\u001b[?25hBuilding wheels for collected packages: autocorrect\n",
            "  Building wheel for autocorrect (setup.py) ... \u001b[?25l\u001b[?25hdone\n",
            "  Created wheel for autocorrect: filename=autocorrect-2.3.0-cp37-none-any.whl size=621587 sha256=ce4359af1733d83a5c71de3e0f8ef685f3f6087711d4ac1ae9b272271610dd9b\n",
            "  Stored in directory: /root/.cache/pip/wheels/cc/1c/30/6b0199afbd20eef5959f5eaa0ead86aeef84391740482b2279\n",
            "Successfully built autocorrect\n",
            "Installing collected packages: autocorrect\n",
            "Successfully installed autocorrect-2.3.0\n"
          ],
          "name": "stdout"
        }
      ]
    },
    {
      "cell_type": "code",
      "metadata": {
        "colab": {
          "base_uri": "https://localhost:8080/"
        },
        "id": "-jnTiI4FO699",
        "outputId": "5e513d45-48f3-485b-b85d-b355e4d3c3f4"
      },
      "source": [
        "#Importing various libraries to assist with preprocessing\n",
        "import pandas as pd\n",
        "import numpy as np\n",
        "\n",
        "import sklearn\n",
        "print('The scikit-learn version is {}.'.format(sklearn.__version__))\n",
        "from textblob import TextBlob\n",
        "\n",
        "import matplotlib\n",
        "import matplotlib.pyplot as plt\n",
        "import seaborn as sns \n",
        "\n",
        "import re\n",
        "import string\n",
        "import unicodedata\n",
        "\n",
        "import nltk\n",
        "nltk.download(\"stopwords\")\n",
        "nltk.download(\"wordnet\")\n",
        "from nltk.corpus import stopwords\n",
        "from nltk.corpus import wordnet\n",
        "from nltk import word_tokenize\n",
        "from nltk import word_tokenize, sent_tokenize\n",
        "from nltk.corpus import stopwords\n",
        "from nltk.stem import LancasterStemmer, WordNetLemmatizer\n",
        "\n",
        "import autocorrect\n",
        "from autocorrect import Speller\n",
        "\n",
        "from bs4 import BeautifulSoup\n",
        "\n",
        "from sklearn.pipeline import Pipeline\n",
        "from sklearn.feature_extraction.text import TfidfVectorizer, CountVectorizer\n",
        "from sklearn.tree import DecisionTreeClassifier\n",
        "\n",
        "from IPython.core.interactiveshell import InteractiveShell\n",
        "InteractiveShell.ast_node_interactivity = \"all\""
      ],
      "execution_count": null,
      "outputs": [
        {
          "output_type": "stream",
          "text": [
            "The scikit-learn version is 0.22.2.post1.\n",
            "[nltk_data] Downloading package stopwords to /root/nltk_data...\n",
            "[nltk_data]   Unzipping corpora/stopwords.zip.\n",
            "[nltk_data] Downloading package wordnet to /root/nltk_data...\n",
            "[nltk_data]   Unzipping corpora/wordnet.zip.\n"
          ],
          "name": "stdout"
        }
      ]
    },
    {
      "cell_type": "code",
      "metadata": {
        "id": "1JlLOyxj0wjR",
        "colab": {
          "base_uri": "https://localhost:8080/"
        },
        "outputId": "3c45c7ed-1dc6-4584-dbef-1e522d9a0cdb"
      },
      "source": [
        "#Reading in the provided train and test files\n",
        "df_train = pd.read_csv(\"/content/sentiment_train.csv\")\n",
        "\n",
        "print(df_train.info())\n",
        "print(df_train.head())\n",
        "\n",
        "df_test = pd.read_csv(\"/content/sentiment_test.csv\")\n",
        "\n",
        "print(df_test.info())\n",
        "print(df_test.head())"
      ],
      "execution_count": null,
      "outputs": [
        {
          "output_type": "stream",
          "text": [
            "<class 'pandas.core.frame.DataFrame'>\n",
            "RangeIndex: 2400 entries, 0 to 2399\n",
            "Data columns (total 2 columns):\n",
            " #   Column    Non-Null Count  Dtype \n",
            "---  ------    --------------  ----- \n",
            " 0   Sentence  2400 non-null   object\n",
            " 1   Polarity  2400 non-null   int64 \n",
            "dtypes: int64(1), object(1)\n",
            "memory usage: 37.6+ KB\n",
            "None\n",
            "                                            Sentence  Polarity\n",
            "0                           Wow... Loved this place.         1\n",
            "1                                 Crust is not good.         0\n",
            "2          Not tasty and the texture was just nasty.         0\n",
            "3  Stopped by during the late May bank holiday of...         1\n",
            "4  The selection on the menu was great and so wer...         1\n",
            "<class 'pandas.core.frame.DataFrame'>\n",
            "RangeIndex: 600 entries, 0 to 599\n",
            "Data columns (total 2 columns):\n",
            " #   Column    Non-Null Count  Dtype \n",
            "---  ------    --------------  ----- \n",
            " 0   Sentence  600 non-null    object\n",
            " 1   Polarity  600 non-null    int64 \n",
            "dtypes: int64(1), object(1)\n",
            "memory usage: 9.5+ KB\n",
            "None\n",
            "                                            Sentence  Polarity\n",
            "0  A good commentary of today's love and undoubte...         1\n",
            "1  For people who are first timers in film making...         1\n",
            "2  It was very popular when I was in the cinema, ...         1\n",
            "3  It's a feel-good film and that's how I felt wh...         1\n",
            "4  It has northern humour and positive about the ...         1\n"
          ],
          "name": "stdout"
        }
      ]
    },
    {
      "cell_type": "code",
      "metadata": {
        "colab": {
          "base_uri": "https://localhost:8080/",
          "height": 190
        },
        "id": "hYQl07v0PLG2",
        "outputId": "d1bb7726-e58f-4de0-a9c6-df01eac69991"
      },
      "source": [
        "#Quick review of the target feature to assess whether data imbalance is present. Appears fairly balanced.\n",
        "np.bincount(df_train['Polarity'])\n",
        "df_train.groupby('Polarity').agg(['count'])"
      ],
      "execution_count": null,
      "outputs": [
        {
          "output_type": "execute_result",
          "data": {
            "text/plain": [
              "array([1213, 1187])"
            ]
          },
          "metadata": {
            "tags": []
          },
          "execution_count": 6
        },
        {
          "output_type": "execute_result",
          "data": {
            "text/html": [
              "<div>\n",
              "<style scoped>\n",
              "    .dataframe tbody tr th:only-of-type {\n",
              "        vertical-align: middle;\n",
              "    }\n",
              "\n",
              "    .dataframe tbody tr th {\n",
              "        vertical-align: top;\n",
              "    }\n",
              "\n",
              "    .dataframe thead tr th {\n",
              "        text-align: left;\n",
              "    }\n",
              "\n",
              "    .dataframe thead tr:last-of-type th {\n",
              "        text-align: right;\n",
              "    }\n",
              "</style>\n",
              "<table border=\"1\" class=\"dataframe\">\n",
              "  <thead>\n",
              "    <tr>\n",
              "      <th></th>\n",
              "      <th>Sentence</th>\n",
              "    </tr>\n",
              "    <tr>\n",
              "      <th></th>\n",
              "      <th>count</th>\n",
              "    </tr>\n",
              "    <tr>\n",
              "      <th>Polarity</th>\n",
              "      <th></th>\n",
              "    </tr>\n",
              "  </thead>\n",
              "  <tbody>\n",
              "    <tr>\n",
              "      <th>0</th>\n",
              "      <td>1213</td>\n",
              "    </tr>\n",
              "    <tr>\n",
              "      <th>1</th>\n",
              "      <td>1187</td>\n",
              "    </tr>\n",
              "  </tbody>\n",
              "</table>\n",
              "</div>"
            ],
            "text/plain": [
              "         Sentence\n",
              "            count\n",
              "Polarity         \n",
              "0            1213\n",
              "1            1187"
            ]
          },
          "metadata": {
            "tags": []
          },
          "execution_count": 6
        }
      ]
    },
    {
      "cell_type": "markdown",
      "metadata": {
        "id": "V8r8IOMQmxMp"
      },
      "source": [
        "####Part 1.a.1 Preprocessing\n",
        "In the following section, a preprocessing function will be built out to do the following:\n",
        "- Remove HTML tags\n",
        "- Normalize character case to lower\n",
        "- Remove punctuation\n",
        "- Remove URLs\n",
        "- Remove non-unicode\n",
        "- Remove numbers\n",
        "- Spell check (slows processing but the provided data is small enough where this is ok)\n",
        "- Some adjustments for slang and preprocessing issues\n",
        "- Removal of spotwords and lemmatization"
      ]
    },
    {
      "cell_type": "code",
      "metadata": {
        "id": "2G7D-zJlPX9c"
      },
      "source": [
        "# Simple preprocessor.\n",
        "# Input is a single document, as a single string.\n",
        "# Output should be a single document, as a single string.\n",
        "stop_words = set(stopwords.words('english'))\n",
        "stop_words.remove('not')\n",
        "\n",
        "spell = Speller(lang='en')\n",
        "\n",
        "lemmer = WordNetLemmatizer()\n",
        "\n",
        "contractions = {\n",
        "   \"didnt\" : \"did not\",\n",
        "   \"cranberrymmmm\" : \"cranberry good\",\n",
        "   \"blah\" : \"bad\",\n",
        "   \"feelgood\" : \"feel good\"\n",
        "\n",
        "}\n",
        "\n",
        "def my_preprocess(doc):\n",
        "\n",
        "    # Remove HTML tags\n",
        "    doc = BeautifulSoup(doc, \"lxml\").get_text()\n",
        "    \n",
        "    # Lowercase\n",
        "    doc = doc.lower()\n",
        "\n",
        "    # Remove punctuation\n",
        "    doc = re.sub(r'[^\\w\\s]', '', doc)\n",
        "    \n",
        "    # Remove URLs\n",
        "    doc = re.sub(r'http\\S+', '', doc)\n",
        "\n",
        "    # Remove non-unicode\n",
        "    doc = doc.encode(\"ascii\",\"ignore\").decode()#unidecode.unidecode(doc)\n",
        "\n",
        "    # Remove numbers\n",
        "    doc = re.sub(r'\\d+', '', doc)\n",
        "\n",
        "    # Spell check (simple but still slow)\n",
        "    doc = spell(doc)\n",
        "\n",
        "    # Some adjustments for slang and preprocessing issues\n",
        "    doc = [contractions[w] if w in contractions else w for w in doc.split()]\n",
        "    doc = ' '.join(doc)\n",
        "    \n",
        "    # Remove stopwords and lemmatize\n",
        "    doc = [lemmer.lemmatize(w) for w in doc.split() if w not in stop_words]\n",
        "    return ' '.join(doc) "
      ],
      "execution_count": null,
      "outputs": []
    },
    {
      "cell_type": "code",
      "metadata": {
        "colab": {
          "base_uri": "https://localhost:8080/"
        },
        "id": "NGQ9zRoVropQ",
        "outputId": "882240a0-bc0b-4528-81dd-b99857535f40"
      },
      "source": [
        "#After applying preprocessing, sentiment analysis is applied to assess the polarity and subjectivity as additional features\n",
        "\n",
        "concat_df = pd.concat([df_train , df_test])\n",
        "\n",
        "%time concat_df['Sentence_clean'] = concat_df['Sentence'].apply(my_preprocess)\n",
        "\n",
        "polarity = []\n",
        "subjectivity = []\n",
        "polarity_dummy = []\n",
        "for sentence in concat_df['Sentence_clean']:\n",
        "  tb = TextBlob(sentence)\n",
        "  polarity.append(tb.sentiment.polarity)\n",
        "  subjectivity.append(tb.sentiment.subjectivity)\n",
        "  if tb.sentiment.polarity > 0.0:\n",
        "    polarity_dummy.append(1)\n",
        "  else:\n",
        "    polarity_dummy.append(0)\n",
        "concat_df['Lexicon-based Polarity Calc'] = polarity\n",
        "concat_df['Lexicon-based Subjectivity Calc'] = subjectivity\n",
        "concat_df['Lexicon-based Polarity Dummy Calc'] = polarity_dummy\n",
        "\n",
        "#Later, we'll apply TF-IDF vectorization and n-grams but doing this prior allows for some initial review"
      ],
      "execution_count": null,
      "outputs": [
        {
          "output_type": "stream",
          "text": [
            "CPU times: user 1min 47s, sys: 155 ms, total: 1min 47s\n",
            "Wall time: 1min 48s\n"
          ],
          "name": "stdout"
        }
      ]
    },
    {
      "cell_type": "code",
      "metadata": {
        "colab": {
          "base_uri": "https://localhost:8080/",
          "height": 221
        },
        "id": "1HNOOR-M50G2",
        "outputId": "dc30e1fb-a6cf-458c-c6ff-b739417af0a1"
      },
      "source": [
        "concat_df.shape\n",
        "concat_df.head()"
      ],
      "execution_count": null,
      "outputs": [
        {
          "output_type": "execute_result",
          "data": {
            "text/plain": [
              "(3000, 6)"
            ]
          },
          "metadata": {
            "tags": []
          },
          "execution_count": 9
        },
        {
          "output_type": "execute_result",
          "data": {
            "text/html": [
              "<div>\n",
              "<style scoped>\n",
              "    .dataframe tbody tr th:only-of-type {\n",
              "        vertical-align: middle;\n",
              "    }\n",
              "\n",
              "    .dataframe tbody tr th {\n",
              "        vertical-align: top;\n",
              "    }\n",
              "\n",
              "    .dataframe thead th {\n",
              "        text-align: right;\n",
              "    }\n",
              "</style>\n",
              "<table border=\"1\" class=\"dataframe\">\n",
              "  <thead>\n",
              "    <tr style=\"text-align: right;\">\n",
              "      <th></th>\n",
              "      <th>Sentence</th>\n",
              "      <th>Polarity</th>\n",
              "      <th>Sentence_clean</th>\n",
              "      <th>Lexicon-based Polarity Calc</th>\n",
              "      <th>Lexicon-based Subjectivity Calc</th>\n",
              "      <th>Lexicon-based Polarity Dummy Calc</th>\n",
              "    </tr>\n",
              "  </thead>\n",
              "  <tbody>\n",
              "    <tr>\n",
              "      <th>0</th>\n",
              "      <td>Wow... Loved this place.</td>\n",
              "      <td>1</td>\n",
              "      <td>wow loved place</td>\n",
              "      <td>0.40</td>\n",
              "      <td>0.90</td>\n",
              "      <td>1</td>\n",
              "    </tr>\n",
              "    <tr>\n",
              "      <th>1</th>\n",
              "      <td>Crust is not good.</td>\n",
              "      <td>0</td>\n",
              "      <td>crust not good</td>\n",
              "      <td>-0.35</td>\n",
              "      <td>0.60</td>\n",
              "      <td>0</td>\n",
              "    </tr>\n",
              "    <tr>\n",
              "      <th>2</th>\n",
              "      <td>Not tasty and the texture was just nasty.</td>\n",
              "      <td>0</td>\n",
              "      <td>not tasty texture nasty</td>\n",
              "      <td>-1.00</td>\n",
              "      <td>1.00</td>\n",
              "      <td>0</td>\n",
              "    </tr>\n",
              "    <tr>\n",
              "      <th>3</th>\n",
              "      <td>Stopped by during the late May bank holiday of...</td>\n",
              "      <td>1</td>\n",
              "      <td>stopped late may bank holiday rick steve recom...</td>\n",
              "      <td>0.20</td>\n",
              "      <td>0.70</td>\n",
              "      <td>1</td>\n",
              "    </tr>\n",
              "    <tr>\n",
              "      <th>4</th>\n",
              "      <td>The selection on the menu was great and so wer...</td>\n",
              "      <td>1</td>\n",
              "      <td>selection menu great price</td>\n",
              "      <td>0.80</td>\n",
              "      <td>0.75</td>\n",
              "      <td>1</td>\n",
              "    </tr>\n",
              "  </tbody>\n",
              "</table>\n",
              "</div>"
            ],
            "text/plain": [
              "                                            Sentence  ...  Lexicon-based Polarity Dummy Calc\n",
              "0                           Wow... Loved this place.  ...                                  1\n",
              "1                                 Crust is not good.  ...                                  0\n",
              "2          Not tasty and the texture was just nasty.  ...                                  0\n",
              "3  Stopped by during the late May bank holiday of...  ...                                  1\n",
              "4  The selection on the menu was great and so wer...  ...                                  1\n",
              "\n",
              "[5 rows x 6 columns]"
            ]
          },
          "metadata": {
            "tags": []
          },
          "execution_count": 9
        }
      ]
    },
    {
      "cell_type": "code",
      "metadata": {
        "id": "SiO-Mut76_71"
      },
      "source": [
        "#We want to make sure that we split the test and train back into the respective instances\n",
        "df_1 = concat_df.iloc[:2400,:] \n",
        "df_2 = concat_df.iloc[2400:,:] "
      ],
      "execution_count": null,
      "outputs": []
    },
    {
      "cell_type": "code",
      "metadata": {
        "id": "oTLp2NExic5R"
      },
      "source": [
        "x_train = df_1.drop(['Polarity','Sentence'],axis=1)\n",
        "x_val = df_1['Polarity']\n",
        "y_test = df_2.drop(['Polarity','Sentence'],axis=1)\n",
        "y_val = df_2['Polarity']"
      ],
      "execution_count": null,
      "outputs": []
    },
    {
      "cell_type": "code",
      "metadata": {
        "colab": {
          "base_uri": "https://localhost:8080/",
          "height": 204
        },
        "id": "yxK5eUmcGpdf",
        "outputId": "a70c195f-d747-404e-af48-cc8dfa5f323e"
      },
      "source": [
        "x_train.head()"
      ],
      "execution_count": null,
      "outputs": [
        {
          "output_type": "execute_result",
          "data": {
            "text/html": [
              "<div>\n",
              "<style scoped>\n",
              "    .dataframe tbody tr th:only-of-type {\n",
              "        vertical-align: middle;\n",
              "    }\n",
              "\n",
              "    .dataframe tbody tr th {\n",
              "        vertical-align: top;\n",
              "    }\n",
              "\n",
              "    .dataframe thead th {\n",
              "        text-align: right;\n",
              "    }\n",
              "</style>\n",
              "<table border=\"1\" class=\"dataframe\">\n",
              "  <thead>\n",
              "    <tr style=\"text-align: right;\">\n",
              "      <th></th>\n",
              "      <th>Sentence_clean</th>\n",
              "      <th>Lexicon-based Polarity Calc</th>\n",
              "      <th>Lexicon-based Subjectivity Calc</th>\n",
              "      <th>Lexicon-based Polarity Dummy Calc</th>\n",
              "    </tr>\n",
              "  </thead>\n",
              "  <tbody>\n",
              "    <tr>\n",
              "      <th>0</th>\n",
              "      <td>wow loved place</td>\n",
              "      <td>0.40</td>\n",
              "      <td>0.90</td>\n",
              "      <td>1</td>\n",
              "    </tr>\n",
              "    <tr>\n",
              "      <th>1</th>\n",
              "      <td>crust not good</td>\n",
              "      <td>-0.35</td>\n",
              "      <td>0.60</td>\n",
              "      <td>0</td>\n",
              "    </tr>\n",
              "    <tr>\n",
              "      <th>2</th>\n",
              "      <td>not tasty texture nasty</td>\n",
              "      <td>-1.00</td>\n",
              "      <td>1.00</td>\n",
              "      <td>0</td>\n",
              "    </tr>\n",
              "    <tr>\n",
              "      <th>3</th>\n",
              "      <td>stopped late may bank holiday rick steve recom...</td>\n",
              "      <td>0.20</td>\n",
              "      <td>0.70</td>\n",
              "      <td>1</td>\n",
              "    </tr>\n",
              "    <tr>\n",
              "      <th>4</th>\n",
              "      <td>selection menu great price</td>\n",
              "      <td>0.80</td>\n",
              "      <td>0.75</td>\n",
              "      <td>1</td>\n",
              "    </tr>\n",
              "  </tbody>\n",
              "</table>\n",
              "</div>"
            ],
            "text/plain": [
              "                                      Sentence_clean  ...  Lexicon-based Polarity Dummy Calc\n",
              "0                                    wow loved place  ...                                  1\n",
              "1                                     crust not good  ...                                  0\n",
              "2                            not tasty texture nasty  ...                                  0\n",
              "3  stopped late may bank holiday rick steve recom...  ...                                  1\n",
              "4                         selection menu great price  ...                                  1\n",
              "\n",
              "[5 rows x 4 columns]"
            ]
          },
          "metadata": {
            "tags": []
          },
          "execution_count": 12
        }
      ]
    },
    {
      "cell_type": "code",
      "metadata": {
        "colab": {
          "base_uri": "https://localhost:8080/",
          "height": 204
        },
        "id": "qBT6a1PoGxDc",
        "outputId": "ece02ba6-a602-4184-a401-b685e7f726a4"
      },
      "source": [
        "y_test.head()"
      ],
      "execution_count": null,
      "outputs": [
        {
          "output_type": "execute_result",
          "data": {
            "text/html": [
              "<div>\n",
              "<style scoped>\n",
              "    .dataframe tbody tr th:only-of-type {\n",
              "        vertical-align: middle;\n",
              "    }\n",
              "\n",
              "    .dataframe tbody tr th {\n",
              "        vertical-align: top;\n",
              "    }\n",
              "\n",
              "    .dataframe thead th {\n",
              "        text-align: right;\n",
              "    }\n",
              "</style>\n",
              "<table border=\"1\" class=\"dataframe\">\n",
              "  <thead>\n",
              "    <tr style=\"text-align: right;\">\n",
              "      <th></th>\n",
              "      <th>Sentence_clean</th>\n",
              "      <th>Lexicon-based Polarity Calc</th>\n",
              "      <th>Lexicon-based Subjectivity Calc</th>\n",
              "      <th>Lexicon-based Polarity Dummy Calc</th>\n",
              "    </tr>\n",
              "  </thead>\n",
              "  <tbody>\n",
              "    <tr>\n",
              "      <th>0</th>\n",
              "      <td>good commentary today love undoubtedly film wo...</td>\n",
              "      <td>0.500000</td>\n",
              "      <td>0.433333</td>\n",
              "      <td>1</td>\n",
              "    </tr>\n",
              "    <tr>\n",
              "      <th>1</th>\n",
              "      <td>people first timer film making think excellent...</td>\n",
              "      <td>0.625000</td>\n",
              "      <td>0.666667</td>\n",
              "      <td>1</td>\n",
              "    </tr>\n",
              "    <tr>\n",
              "      <th>2</th>\n",
              "      <td>popular cinema good house good reaction plenty...</td>\n",
              "      <td>0.575000</td>\n",
              "      <td>0.550000</td>\n",
              "      <td>1</td>\n",
              "    </tr>\n",
              "    <tr>\n",
              "      <th>3</th>\n",
              "      <td>feel good film thats felt came cinema</td>\n",
              "      <td>0.700000</td>\n",
              "      <td>0.600000</td>\n",
              "      <td>1</td>\n",
              "    </tr>\n",
              "    <tr>\n",
              "      <th>4</th>\n",
              "      <td>northern humour positive community represents</td>\n",
              "      <td>0.227273</td>\n",
              "      <td>0.545455</td>\n",
              "      <td>1</td>\n",
              "    </tr>\n",
              "  </tbody>\n",
              "</table>\n",
              "</div>"
            ],
            "text/plain": [
              "                                      Sentence_clean  ...  Lexicon-based Polarity Dummy Calc\n",
              "0  good commentary today love undoubtedly film wo...  ...                                  1\n",
              "1  people first timer film making think excellent...  ...                                  1\n",
              "2  popular cinema good house good reaction plenty...  ...                                  1\n",
              "3              feel good film thats felt came cinema  ...                                  1\n",
              "4      northern humour positive community represents  ...                                  1\n",
              "\n",
              "[5 rows x 4 columns]"
            ]
          },
          "metadata": {
            "tags": []
          },
          "execution_count": 13
        }
      ]
    },
    {
      "cell_type": "code",
      "metadata": {
        "id": "8TzW7TOU_uw3"
      },
      "source": [
        "#Importing libraries needed for modeling\n",
        "from sklearn.pipeline import Pipeline, FeatureUnion\n",
        "from sklearn.preprocessing import FunctionTransformer\n",
        "from sklearn.feature_extraction.text import TfidfVectorizer, CountVectorizer\n",
        "from sklearn.model_selection import GridSearchCV, StratifiedKFold\n",
        "from sklearn.ensemble import RandomForestClassifier\n",
        "from sklearn.tree import DecisionTreeClassifier\n",
        "from sklearn.neighbors import KNeighborsClassifier\n",
        "from sklearn.linear_model import LogisticRegression\n",
        "from sklearn.svm import SVC"
      ],
      "execution_count": null,
      "outputs": []
    },
    {
      "cell_type": "code",
      "metadata": {
        "id": "MNnvsXTcFa79"
      },
      "source": [
        "#Vectorizing as some reviews may repeat 'great' and TF_IDF may better capture the term frequency and document frequency\n",
        "#Adding in the calculated polarity and subjectivity features from earlier\n",
        "from sklearn.feature_extraction.text import TfidfVectorizer\n",
        "\n",
        "#defining an additional function\n",
        "def add_feature(X, feature_to_add):\n",
        "    \"\"\"\n",
        "    Returns sparse feature matrix with added feature.\n",
        "    feature_to_add can also be a list of features.\n",
        "    \"\"\"\n",
        "    from scipy.sparse import csr_matrix, hstack\n",
        "    return hstack([X, csr_matrix(feature_to_add).T], 'csr')\n",
        "\n",
        "vectorizer = TfidfVectorizer(ngram_range=[1,3], preprocessor = my_preprocess)\n",
        "concat_transformed = vectorizer.fit_transform(concat_df['Sentence'])\n",
        "concat_transformed_with_feat = add_feature(concat_transformed, [concat_df['Lexicon-based Polarity Calc'],\n",
        "                                                                    concat_df['Lexicon-based Subjectivity Calc'],concat_df['Lexicon-based Polarity Dummy Calc']])\n",
        "\n",
        "#Applying the matrix on the concatenated features so that the output maintains the same frame shape to avoid errors during prediction"
      ],
      "execution_count": null,
      "outputs": []
    },
    {
      "cell_type": "code",
      "metadata": {
        "colab": {
          "base_uri": "https://localhost:8080/"
        },
        "id": "uKpPTgnIGplN",
        "outputId": "1dc8cbfc-dcea-40a7-9f5e-e16f411ecbb2"
      },
      "source": [
        "concat_transformed_with_feat.shape"
      ],
      "execution_count": null,
      "outputs": [
        {
          "output_type": "execute_result",
          "data": {
            "text/plain": [
              "(3000, 30822)"
            ]
          },
          "metadata": {
            "tags": []
          },
          "execution_count": 16
        }
      ]
    },
    {
      "cell_type": "code",
      "metadata": {
        "id": "FEpag2xrG_Sr"
      },
      "source": [
        "train_transformed = concat_transformed_with_feat[:2400,:] \n",
        "test_transformed = concat_transformed_with_feat[2400:,:] "
      ],
      "execution_count": null,
      "outputs": []
    },
    {
      "cell_type": "code",
      "metadata": {
        "colab": {
          "base_uri": "https://localhost:8080/"
        },
        "id": "m7PGIQ6PHJuL",
        "outputId": "e30704bb-720d-4d64-da63-7631b3dd970e"
      },
      "source": [
        "#Applying the matrix on the concatenated features so that the output maintains the same frame shape to avoid errors during prediction\n",
        "train_transformed.shape\n",
        "print('\\n')\n",
        "test_transformed.shape"
      ],
      "execution_count": null,
      "outputs": [
        {
          "output_type": "execute_result",
          "data": {
            "text/plain": [
              "(2400, 30822)"
            ]
          },
          "metadata": {
            "tags": []
          },
          "execution_count": 18
        },
        {
          "output_type": "stream",
          "text": [
            "\n",
            "\n"
          ],
          "name": "stdout"
        },
        {
          "output_type": "execute_result",
          "data": {
            "text/plain": [
              "(600, 30822)"
            ]
          },
          "metadata": {
            "tags": []
          },
          "execution_count": 18
        }
      ]
    },
    {
      "cell_type": "markdown",
      "metadata": {
        "id": "0NzkcVPpKJgC"
      },
      "source": [
        "#### Additional Visualizations\n",
        "1. Show top tokens/grams\n",
        "2. Top tokens/gram in a bar chart"
      ]
    },
    {
      "cell_type": "code",
      "metadata": {
        "colab": {
          "base_uri": "https://localhost:8080/"
        },
        "id": "RCkV-JkEJzO-",
        "outputId": "870aaa8c-aa03-4a6e-b66f-eae01b19cb40"
      },
      "source": [
        "# Calculate column sums from DTM\n",
        "sum_words = concat_transformed.sum(axis=0) \n",
        "words_freq = [(word, sum_words[0, idx]) for word, idx in vectorizer.vocabulary_.items()]\n",
        "\n",
        "# Now, sort them\n",
        "words_freq =sorted(words_freq, key = lambda x: x[1], reverse=True)\n",
        "\n",
        "# Display top few\n",
        "words_freq[:20]"
      ],
      "execution_count": null,
      "outputs": [
        {
          "output_type": "execute_result",
          "data": {
            "text/plain": [
              "[('not', 41.97586372050198),\n",
              " ('great', 39.469691708046476),\n",
              " ('good', 35.95008664165912),\n",
              " ('phone', 27.31192904818393),\n",
              " ('movie', 26.588839351955013),\n",
              " ('film', 22.808707845763077),\n",
              " ('service', 22.250184924721275),\n",
              " ('work', 21.93864776558491),\n",
              " ('food', 21.608574799464282),\n",
              " ('place', 21.050061441659825),\n",
              " ('bad', 20.099567643342617),\n",
              " ('time', 18.430097150043988),\n",
              " ('one', 18.179137375019348),\n",
              " ('like', 16.576172635215972),\n",
              " ('dont', 16.566667323225595),\n",
              " ('really', 16.13991366152127),\n",
              " ('back', 15.936946871543352),\n",
              " ('love', 15.379237735181606),\n",
              " ('excellent', 14.047335353300106),\n",
              " ('product', 14.001188867156067)]"
            ]
          },
          "metadata": {
            "tags": []
          },
          "execution_count": 31
        }
      ]
    },
    {
      "cell_type": "code",
      "metadata": {
        "colab": {
          "base_uri": "https://localhost:8080/",
          "height": 875
        },
        "id": "OryRobvgKOG-",
        "outputId": "7455dea4-e87f-4cc2-9739-514f93a764c6"
      },
      "source": [
        "#What is valuable to see with this visualization is that after all the preprocessing work, the top tokens are words that will drive polarity like 'not', 'great', and 'good'. \n",
        "from yellowbrick.text import FreqDistVisualizer\n",
        "\n",
        "plt.figure(figsize=(5,8))\n",
        "visualizer = FreqDistVisualizer(features=vectorizer.get_feature_names(), n=25)\n",
        "visualizer.fit(concat_transformed)\n",
        "visualizer.poof()"
      ],
      "execution_count": null,
      "outputs": [
        {
          "output_type": "stream",
          "text": [
            "/usr/local/lib/python3.7/dist-packages/sklearn/utils/deprecation.py:144: FutureWarning: The sklearn.metrics.classification module is  deprecated in version 0.22 and will be removed in version 0.24. The corresponding classes / functions should instead be imported from sklearn.metrics. Anything that cannot be imported from sklearn.metrics is now part of the private API.\n",
            "  warnings.warn(message, FutureWarning)\n"
          ],
          "name": "stderr"
        },
        {
          "output_type": "execute_result",
          "data": {
            "text/plain": [
              "<Figure size 360x576 with 0 Axes>"
            ]
          },
          "metadata": {
            "tags": []
          },
          "execution_count": 32
        },
        {
          "output_type": "stream",
          "text": [
            "/usr/local/lib/python3.7/dist-packages/sklearn/base.py:197: FutureWarning: From version 0.24, get_params will raise an AttributeError if a parameter cannot be retrieved as an instance attribute. Previously it would return None.\n",
            "  FutureWarning)\n"
          ],
          "name": "stderr"
        },
        {
          "output_type": "execute_result",
          "data": {
            "text/plain": [
              "FrequencyVisualizer(ax=<matplotlib.axes._subplots.AxesSubplot object at 0x7fc40f5a5950>,\n",
              "                    color=None,\n",
              "                    features=['aaaaaa', 'aailiyah', 'aailiyah pretty',\n",
              "                              'aailiyah pretty good', 'abandoned',\n",
              "                              'abandoned factory', 'abandoned factory ready',\n",
              "                              'ability', 'ability actually',\n",
              "                              'ability actually know', 'ability held',\n",
              "                              'ability held two', 'ability phone',\n",
              "                              'ability pull', 'ability pull part',\n",
              "                              'ability right', 'ability right schultz', 'able',\n",
              "                              'able roam', 'able roam around', 'able use',\n",
              "                              'able use one', 'able voice',\n",
              "                              'able voice dialing', 'abound', 'abovepretty',\n",
              "                              'abovepretty useless', 'abroad',\n",
              "                              'abroad interacting',\n",
              "                              'abroad interacting nationality', ...],\n",
              "                    n=None, orient='h')"
            ]
          },
          "metadata": {
            "tags": []
          },
          "execution_count": 32
        },
        {
          "output_type": "display_data",
          "data": {
            "image/png": "[encoded data removed]",
            "text/plain": [
              "<Figure size 360x576 with 1 Axes>"
            ]
          },
          "metadata": {
            "tags": []
          }
        }
      ]
    },
    {
      "cell_type": "markdown",
      "metadata": {
        "id": "rdm7rcSD0wjS"
      },
      "source": [
        "### Part 1.b. Modeling\n",
        "\n",
        "Use your favorite ML algorithm to train a classification model.  Don’t forget everything that we’ve learned in our ML course: hyperparameter tuning, cross validation, handling imbalanced data, etc. Make reasonable decisions and try to create the best-performing classifier that you can."
      ]
    },
    {
      "cell_type": "markdown",
      "metadata": {
        "id": "ypuIaziNA8hG"
      },
      "source": [
        "#### Random Forest\n",
        "Below, I will be applying stratified k-fold cross validation and the respective grid searches for hyper parameter tuning on Random Forest, KNN, Decision Trees, and SVM. As mentioned earlier, there didn't appear to be a data imbalance so I did not need to revisit the train and test splits for any type of sampling measures (oversampling, undersampling, SMOTE, etc.). "
      ]
    },
    {
      "cell_type": "code",
      "metadata": {
        "colab": {
          "base_uri": "https://localhost:8080/"
        },
        "id": "AXt14omE3gEi",
        "outputId": "3a6d3804-7939-460d-be50-e0fe30634e61"
      },
      "source": [
        "# Grid Search Parameters for RandomForest\n",
        "param_grid = {'max_depth': [5, 8, 30],\n",
        " 'min_samples_leaf': [1, 2, 10],\n",
        " 'min_samples_split': [2, 5, 100],\n",
        " 'n_estimators': [100, 300, 1200]}\n",
        "\n",
        "# Training config\n",
        "kfold = StratifiedKFold(n_splits=7)\n",
        "scoring = {'Accuracy': 'accuracy', 'F1': 'f1_macro'}\n",
        "refit = 'F1'\n",
        "\n",
        "# Perform GridSearch\n",
        "rf_model = GridSearchCV(RandomForestClassifier(), param_grid=param_grid, cv=kfold, scoring=scoring, \n",
        "                         refit=refit, n_jobs=-1, return_train_score=True, verbose=1)\n",
        "rf_model.fit(train_transformed, x_val)"
      ],
      "execution_count": null,
      "outputs": [
        {
          "output_type": "stream",
          "text": [
            "Fitting 7 folds for each of 81 candidates, totalling 567 fits\n"
          ],
          "name": "stdout"
        },
        {
          "output_type": "stream",
          "text": [
            "[Parallel(n_jobs=-1)]: Using backend LokyBackend with 2 concurrent workers.\n",
            "[Parallel(n_jobs=-1)]: Done  46 tasks      | elapsed:  1.2min\n",
            "[Parallel(n_jobs=-1)]: Done 196 tasks      | elapsed:  4.8min\n",
            "[Parallel(n_jobs=-1)]: Done 446 tasks      | elapsed: 15.8min\n",
            "[Parallel(n_jobs=-1)]: Done 567 out of 567 | elapsed: 21.7min finished\n"
          ],
          "name": "stderr"
        },
        {
          "output_type": "execute_result",
          "data": {
            "text/plain": [
              "GridSearchCV(cv=StratifiedKFold(n_splits=7, random_state=None, shuffle=False),\n",
              "             error_score=nan,\n",
              "             estimator=RandomForestClassifier(bootstrap=True, ccp_alpha=0.0,\n",
              "                                              class_weight=None,\n",
              "                                              criterion='gini', max_depth=None,\n",
              "                                              max_features='auto',\n",
              "                                              max_leaf_nodes=None,\n",
              "                                              max_samples=None,\n",
              "                                              min_impurity_decrease=0.0,\n",
              "                                              min_impurity_split=None,\n",
              "                                              min_samples_leaf=1,\n",
              "                                              min_samples_split=2,...\n",
              "                                              n_estimators=100, n_jobs=None,\n",
              "                                              oob_score=False,\n",
              "                                              random_state=None, verbose=0,\n",
              "                                              warm_start=False),\n",
              "             iid='deprecated', n_jobs=-1,\n",
              "             param_grid={'max_depth': [5, 8, 30],\n",
              "                         'min_samples_leaf': [1, 2, 10],\n",
              "                         'min_samples_split': [2, 5, 100],\n",
              "                         'n_estimators': [100, 300, 1200]},\n",
              "             pre_dispatch='2*n_jobs', refit='F1', return_train_score=True,\n",
              "             scoring={'Accuracy': 'accuracy', 'F1': 'f1_macro'}, verbose=1)"
            ]
          },
          "metadata": {
            "tags": []
          },
          "execution_count": 19
        }
      ]
    },
    {
      "cell_type": "code",
      "metadata": {
        "colab": {
          "base_uri": "https://localhost:8080/"
        },
        "id": "yjnfBhzk-jlo",
        "outputId": "134a3f4b-4245-4453-89dd-ccbbe1395015"
      },
      "source": [
        "#Review best parameters, score, and estimator\n",
        "rf_model.best_params_\n",
        "print('\\n')\n",
        "rf_model.best_score_\n",
        "print('\\n')\n",
        "rf_model.best_estimator_"
      ],
      "execution_count": null,
      "outputs": [
        {
          "output_type": "execute_result",
          "data": {
            "text/plain": [
              "{'max_depth': 5,\n",
              " 'min_samples_leaf': 2,\n",
              " 'min_samples_split': 100,\n",
              " 'n_estimators': 1200}"
            ]
          },
          "metadata": {
            "tags": []
          },
          "execution_count": 20
        },
        {
          "output_type": "stream",
          "text": [
            "\n",
            "\n"
          ],
          "name": "stdout"
        },
        {
          "output_type": "execute_result",
          "data": {
            "text/plain": [
              "0.8074295231655159"
            ]
          },
          "metadata": {
            "tags": []
          },
          "execution_count": 20
        },
        {
          "output_type": "stream",
          "text": [
            "\n",
            "\n"
          ],
          "name": "stdout"
        },
        {
          "output_type": "execute_result",
          "data": {
            "text/plain": [
              "RandomForestClassifier(bootstrap=True, ccp_alpha=0.0, class_weight=None,\n",
              "                       criterion='gini', max_depth=5, max_features='auto',\n",
              "                       max_leaf_nodes=None, max_samples=None,\n",
              "                       min_impurity_decrease=0.0, min_impurity_split=None,\n",
              "                       min_samples_leaf=2, min_samples_split=100,\n",
              "                       min_weight_fraction_leaf=0.0, n_estimators=1200,\n",
              "                       n_jobs=None, oob_score=False, random_state=None,\n",
              "                       verbose=0, warm_start=False)"
            ]
          },
          "metadata": {
            "tags": []
          },
          "execution_count": 20
        }
      ]
    },
    {
      "cell_type": "markdown",
      "metadata": {
        "id": "4oVb78MVA6aO"
      },
      "source": [
        "#### KNN"
      ]
    },
    {
      "cell_type": "code",
      "metadata": {
        "colab": {
          "base_uri": "https://localhost:8080/"
        },
        "id": "ZcTgwfe6ADH9",
        "outputId": "eca60182-51ac-4629-9db3-d96083da88f0"
      },
      "source": [
        "param_grid = {'weights': ('uniform', 'distance'), \n",
        "              'n_neighbors': [3,5,11,19], \n",
        "              'metric': ['euclidean', 'manhattan']}\n",
        "\n",
        "knn_model = GridSearchCV(KNeighborsClassifier(), param_grid=param_grid, cv=kfold, scoring=scoring, \n",
        "                         refit=refit, n_jobs=-1, return_train_score=True, verbose=1)\n",
        "knn_model.fit(train_transformed, x_val)"
      ],
      "execution_count": null,
      "outputs": [
        {
          "output_type": "stream",
          "text": [
            "Fitting 7 folds for each of 16 candidates, totalling 112 fits\n"
          ],
          "name": "stdout"
        },
        {
          "output_type": "stream",
          "text": [
            "[Parallel(n_jobs=-1)]: Using backend LokyBackend with 2 concurrent workers.\n",
            "[Parallel(n_jobs=-1)]: Done  46 tasks      | elapsed:    6.8s\n",
            "[Parallel(n_jobs=-1)]: Done 112 out of 112 | elapsed:   48.6s finished\n"
          ],
          "name": "stderr"
        },
        {
          "output_type": "execute_result",
          "data": {
            "text/plain": [
              "GridSearchCV(cv=StratifiedKFold(n_splits=7, random_state=None, shuffle=False),\n",
              "             error_score=nan,\n",
              "             estimator=KNeighborsClassifier(algorithm='auto', leaf_size=30,\n",
              "                                            metric='minkowski',\n",
              "                                            metric_params=None, n_jobs=None,\n",
              "                                            n_neighbors=5, p=2,\n",
              "                                            weights='uniform'),\n",
              "             iid='deprecated', n_jobs=-1,\n",
              "             param_grid={'metric': ['euclidean', 'manhattan'],\n",
              "                         'n_neighbors': [3, 5, 11, 19],\n",
              "                         'weights': ('uniform', 'distance')},\n",
              "             pre_dispatch='2*n_jobs', refit='F1', return_train_score=True,\n",
              "             scoring={'Accuracy': 'accuracy', 'F1': 'f1_macro'}, verbose=1)"
            ]
          },
          "metadata": {
            "tags": []
          },
          "execution_count": 21
        }
      ]
    },
    {
      "cell_type": "code",
      "metadata": {
        "colab": {
          "base_uri": "https://localhost:8080/"
        },
        "id": "cfoHspV1AWf1",
        "outputId": "30b3d211-31da-457d-bc16-717e4af32e4a"
      },
      "source": [
        "#Review best parameters, score, and estimator\n",
        "knn_model.best_params_\n",
        "print('\\n')\n",
        "knn_model.best_score_\n",
        "print('\\n')\n",
        "knn_model.best_estimator_"
      ],
      "execution_count": null,
      "outputs": [
        {
          "output_type": "execute_result",
          "data": {
            "text/plain": [
              "{'metric': 'euclidean', 'n_neighbors': 3, 'weights': 'uniform'}"
            ]
          },
          "metadata": {
            "tags": []
          },
          "execution_count": 22
        },
        {
          "output_type": "stream",
          "text": [
            "\n",
            "\n"
          ],
          "name": "stdout"
        },
        {
          "output_type": "execute_result",
          "data": {
            "text/plain": [
              "0.8061859858716994"
            ]
          },
          "metadata": {
            "tags": []
          },
          "execution_count": 22
        },
        {
          "output_type": "stream",
          "text": [
            "\n",
            "\n"
          ],
          "name": "stdout"
        },
        {
          "output_type": "execute_result",
          "data": {
            "text/plain": [
              "KNeighborsClassifier(algorithm='auto', leaf_size=30, metric='euclidean',\n",
              "                     metric_params=None, n_jobs=None, n_neighbors=3, p=2,\n",
              "                     weights='uniform')"
            ]
          },
          "metadata": {
            "tags": []
          },
          "execution_count": 22
        }
      ]
    },
    {
      "cell_type": "markdown",
      "metadata": {
        "id": "HO5-IerPA-xY"
      },
      "source": [
        "#### Decision Tree"
      ]
    },
    {
      "cell_type": "code",
      "metadata": {
        "colab": {
          "base_uri": "https://localhost:8080/"
        },
        "id": "veMsiZkwAQqc",
        "outputId": "66b2a001-2ee3-4cb0-8182-4e632f0fb53f"
      },
      "source": [
        "param_grid = {'criterion': ('gini', 'entropy'), \n",
        "              'max_depth': [2, 10, 20], \n",
        "              'min_samples_leaf': [1, 5, 10],\n",
        "              'max_leaf_nodes':[None, 10, 50]}\n",
        "\n",
        "dt_model = GridSearchCV(DecisionTreeClassifier(), param_grid=param_grid, cv=kfold, scoring=scoring, \n",
        "                         refit=refit, n_jobs=-1, return_train_score=True, verbose=1)\n",
        "dt_model.fit(train_transformed, x_val)"
      ],
      "execution_count": null,
      "outputs": [
        {
          "output_type": "stream",
          "text": [
            "[Parallel(n_jobs=-1)]: Using backend LokyBackend with 2 concurrent workers.\n"
          ],
          "name": "stderr"
        },
        {
          "output_type": "stream",
          "text": [
            "Fitting 7 folds for each of 54 candidates, totalling 378 fits\n"
          ],
          "name": "stdout"
        },
        {
          "output_type": "stream",
          "text": [
            "[Parallel(n_jobs=-1)]: Done  88 tasks      | elapsed:   10.1s\n",
            "[Parallel(n_jobs=-1)]: Done 248 tasks      | elapsed:   58.2s\n",
            "[Parallel(n_jobs=-1)]: Done 378 out of 378 | elapsed:  1.7min finished\n"
          ],
          "name": "stderr"
        },
        {
          "output_type": "execute_result",
          "data": {
            "text/plain": [
              "GridSearchCV(cv=StratifiedKFold(n_splits=7, random_state=None, shuffle=False),\n",
              "             error_score=nan,\n",
              "             estimator=DecisionTreeClassifier(ccp_alpha=0.0, class_weight=None,\n",
              "                                              criterion='gini', max_depth=None,\n",
              "                                              max_features=None,\n",
              "                                              max_leaf_nodes=None,\n",
              "                                              min_impurity_decrease=0.0,\n",
              "                                              min_impurity_split=None,\n",
              "                                              min_samples_leaf=1,\n",
              "                                              min_samples_split=2,\n",
              "                                              min_weight_fraction_leaf=0.0,\n",
              "                                              presort='deprecated',\n",
              "                                              random_state=None,\n",
              "                                              splitter='best'),\n",
              "             iid='deprecated', n_jobs=-1,\n",
              "             param_grid={'criterion': ('gini', 'entropy'),\n",
              "                         'max_depth': [2, 10, 20],\n",
              "                         'max_leaf_nodes': [None, 10, 50],\n",
              "                         'min_samples_leaf': [1, 5, 10]},\n",
              "             pre_dispatch='2*n_jobs', refit='F1', return_train_score=True,\n",
              "             scoring={'Accuracy': 'accuracy', 'F1': 'f1_macro'}, verbose=1)"
            ]
          },
          "metadata": {
            "tags": []
          },
          "execution_count": 23
        }
      ]
    },
    {
      "cell_type": "code",
      "metadata": {
        "colab": {
          "base_uri": "https://localhost:8080/"
        },
        "id": "SyzS6n0MAbq9",
        "outputId": "ecde9fdd-9e8b-4894-f5e4-82dd42471e5f"
      },
      "source": [
        "#Review best parameters, score, and estimator\n",
        "dt_model.best_params_\n",
        "print('\\n')\n",
        "dt_model.best_score_\n",
        "print('\\n')\n",
        "dt_model.best_estimator_"
      ],
      "execution_count": null,
      "outputs": [
        {
          "output_type": "execute_result",
          "data": {
            "text/plain": [
              "{'criterion': 'entropy',\n",
              " 'max_depth': 10,\n",
              " 'max_leaf_nodes': None,\n",
              " 'min_samples_leaf': 1}"
            ]
          },
          "metadata": {
            "tags": []
          },
          "execution_count": 24
        },
        {
          "output_type": "stream",
          "text": [
            "\n",
            "\n"
          ],
          "name": "stdout"
        },
        {
          "output_type": "execute_result",
          "data": {
            "text/plain": [
              "0.804560821227173"
            ]
          },
          "metadata": {
            "tags": []
          },
          "execution_count": 24
        },
        {
          "output_type": "stream",
          "text": [
            "\n",
            "\n"
          ],
          "name": "stdout"
        },
        {
          "output_type": "execute_result",
          "data": {
            "text/plain": [
              "DecisionTreeClassifier(ccp_alpha=0.0, class_weight=None, criterion='entropy',\n",
              "                       max_depth=10, max_features=None, max_leaf_nodes=None,\n",
              "                       min_impurity_decrease=0.0, min_impurity_split=None,\n",
              "                       min_samples_leaf=1, min_samples_split=2,\n",
              "                       min_weight_fraction_leaf=0.0, presort='deprecated',\n",
              "                       random_state=None, splitter='best')"
            ]
          },
          "metadata": {
            "tags": []
          },
          "execution_count": 24
        }
      ]
    },
    {
      "cell_type": "markdown",
      "metadata": {
        "id": "DTdrpI2JBAoI"
      },
      "source": [
        "#### Support Vector Machine"
      ]
    },
    {
      "cell_type": "code",
      "metadata": {
        "colab": {
          "base_uri": "https://localhost:8080/"
        },
        "id": "3gJQUe_mAQhE",
        "outputId": "e9e4b0ea-31fa-4fee-c712-6fa61086522c"
      },
      "source": [
        "param_grid = {'C': [0.1,0.01,0.025], \n",
        "          'gamma': [1,0.1,0.01,0.02, 0.001],\n",
        "          'kernel': ['rbf', 'sigmoid','linear']}\n",
        "\n",
        "svm_model = GridSearchCV(SVC(), param_grid=param_grid, cv=kfold, scoring=scoring, \n",
        "                         refit=refit, n_jobs=-1, return_train_score=True, verbose=1)\n",
        "svm_model.fit(train_transformed, x_val)"
      ],
      "execution_count": null,
      "outputs": [
        {
          "output_type": "stream",
          "text": [
            "Fitting 7 folds for each of 45 candidates, totalling 315 fits\n"
          ],
          "name": "stdout"
        },
        {
          "output_type": "stream",
          "text": [
            "[Parallel(n_jobs=-1)]: Using backend LokyBackend with 2 concurrent workers.\n",
            "[Parallel(n_jobs=-1)]: Done  46 tasks      | elapsed:   25.5s\n",
            "[Parallel(n_jobs=-1)]: Done 196 tasks      | elapsed:  2.2min\n",
            "[Parallel(n_jobs=-1)]: Done 315 out of 315 | elapsed:  3.5min finished\n"
          ],
          "name": "stderr"
        },
        {
          "output_type": "execute_result",
          "data": {
            "text/plain": [
              "GridSearchCV(cv=StratifiedKFold(n_splits=7, random_state=None, shuffle=False),\n",
              "             error_score=nan,\n",
              "             estimator=SVC(C=1.0, break_ties=False, cache_size=200,\n",
              "                           class_weight=None, coef0=0.0,\n",
              "                           decision_function_shape='ovr', degree=3,\n",
              "                           gamma='scale', kernel='rbf', max_iter=-1,\n",
              "                           probability=False, random_state=None, shrinking=True,\n",
              "                           tol=0.001, verbose=False),\n",
              "             iid='deprecated', n_jobs=-1,\n",
              "             param_grid={'C': [0.1, 0.01, 0.025],\n",
              "                         'gamma': [1, 0.1, 0.01, 0.02, 0.001],\n",
              "                         'kernel': ['rbf', 'sigmoid', 'linear']},\n",
              "             pre_dispatch='2*n_jobs', refit='F1', return_train_score=True,\n",
              "             scoring={'Accuracy': 'accuracy', 'F1': 'f1_macro'}, verbose=1)"
            ]
          },
          "metadata": {
            "tags": []
          },
          "execution_count": 25
        }
      ]
    },
    {
      "cell_type": "code",
      "metadata": {
        "colab": {
          "base_uri": "https://localhost:8080/"
        },
        "id": "CsuuMP-dAcHO",
        "outputId": "e1005aad-34dd-4398-d1ab-aa0005325145"
      },
      "source": [
        "#Review best parameters, score, and estimator\n",
        "svm_model.best_params_\n",
        "print('\\n')\n",
        "svm_model.best_score_\n",
        "print('\\n')\n",
        "svm_model.best_estimator_"
      ],
      "execution_count": null,
      "outputs": [
        {
          "output_type": "execute_result",
          "data": {
            "text/plain": [
              "{'C': 0.025, 'gamma': 0.02, 'kernel': 'rbf'}"
            ]
          },
          "metadata": {
            "tags": []
          },
          "execution_count": 26
        },
        {
          "output_type": "stream",
          "text": [
            "\n",
            "\n"
          ],
          "name": "stdout"
        },
        {
          "output_type": "execute_result",
          "data": {
            "text/plain": [
              "0.7959267705290806"
            ]
          },
          "metadata": {
            "tags": []
          },
          "execution_count": 26
        },
        {
          "output_type": "stream",
          "text": [
            "\n",
            "\n"
          ],
          "name": "stdout"
        },
        {
          "output_type": "execute_result",
          "data": {
            "text/plain": [
              "SVC(C=0.025, break_ties=False, cache_size=200, class_weight=None, coef0=0.0,\n",
              "    decision_function_shape='ovr', degree=3, gamma=0.02, kernel='rbf',\n",
              "    max_iter=-1, probability=False, random_state=None, shrinking=True,\n",
              "    tol=0.001, verbose=False)"
            ]
          },
          "metadata": {
            "tags": []
          },
          "execution_count": 26
        }
      ]
    },
    {
      "cell_type": "markdown",
      "metadata": {
        "id": "ydyB4UFbBe5d"
      },
      "source": [
        "#### Updated Models: Random Forest & KNN\n",
        "After applying hyperparameter tuning, it appears that random forest classifier and KNN nets the best F1 scores out of the aforementioned models. We'll assess RF and KNN to see which one nets a better score on the test data."
      ]
    },
    {
      "cell_type": "code",
      "metadata": {
        "colab": {
          "base_uri": "https://localhost:8080/"
        },
        "id": "5bJgZpo3_tG-",
        "outputId": "ae35b84d-0a9d-4c48-de6f-10e59b63e810"
      },
      "source": [
        "rf_tuned = RandomForestClassifier(max_depth= 5,\n",
        "                                  min_samples_leaf= 1,\n",
        "                                  min_samples_split= 5,\n",
        "                                  n_estimators= 300)\n",
        "rf_tuned.fit(train_transformed, x_val)"
      ],
      "execution_count": null,
      "outputs": [
        {
          "output_type": "execute_result",
          "data": {
            "text/plain": [
              "RandomForestClassifier(bootstrap=True, ccp_alpha=0.0, class_weight=None,\n",
              "                       criterion='gini', max_depth=5, max_features='auto',\n",
              "                       max_leaf_nodes=None, max_samples=None,\n",
              "                       min_impurity_decrease=0.0, min_impurity_split=None,\n",
              "                       min_samples_leaf=1, min_samples_split=5,\n",
              "                       min_weight_fraction_leaf=0.0, n_estimators=300,\n",
              "                       n_jobs=None, oob_score=False, random_state=None,\n",
              "                       verbose=0, warm_start=False)"
            ]
          },
          "metadata": {
            "tags": []
          },
          "execution_count": 27
        }
      ]
    },
    {
      "cell_type": "code",
      "metadata": {
        "colab": {
          "base_uri": "https://localhost:8080/"
        },
        "id": "rYK2BVPcN27r",
        "outputId": "a9f040ed-3f80-4416-dc4e-dca427855c79"
      },
      "source": [
        "knn_tuned = KNeighborsClassifier(metric = 'euclidean', \n",
        "                                  n_neighbors = 3, \n",
        "                                  weights = 'uniform')\n",
        "knn_tuned.fit(train_transformed, x_val)"
      ],
      "execution_count": null,
      "outputs": [
        {
          "output_type": "execute_result",
          "data": {
            "text/plain": [
              "KNeighborsClassifier(algorithm='auto', leaf_size=30, metric='euclidean',\n",
              "                     metric_params=None, n_jobs=None, n_neighbors=3, p=2,\n",
              "                     weights='uniform')"
            ]
          },
          "metadata": {
            "tags": []
          },
          "execution_count": 28
        }
      ]
    },
    {
      "cell_type": "markdown",
      "metadata": {
        "id": "ozwy80xe0wjT"
      },
      "source": [
        "### Part 1.c. Assessing\n",
        "\n",
        "Use the testing data to measure the accuracy and F1-score of your model.  "
      ]
    },
    {
      "cell_type": "code",
      "metadata": {
        "colab": {
          "base_uri": "https://localhost:8080/"
        },
        "id": "hCjJ-VqyXYEj",
        "outputId": "0987cae4-74ef-45b6-ffcc-2b37cbf2c3b3"
      },
      "source": [
        "from sklearn.metrics import confusion_matrix\n",
        "from sklearn.metrics import classification_report, f1_score, accuracy_score\n",
        "\n",
        "pred_val = rf_tuned.predict(test_transformed)\n",
        "\n",
        "print(\"Confusion matrix:\")\n",
        "print(confusion_matrix(y_val, pred_val))\n",
        "\n",
        "print(\"\\nAccuracy = {:.5f}\".format(accuracy_score(y_val, pred_val)))\n",
        "\n",
        "print(\"\\nF1 Score = {:.5f}\".format(f1_score(y_val, pred_val)))\n",
        "\n",
        "print(\"\\nClassification Report:\")\n",
        "print(classification_report(y_val, pred_val))"
      ],
      "execution_count": null,
      "outputs": [
        {
          "output_type": "stream",
          "text": [
            "Confusion matrix:\n",
            "[[241  46]\n",
            " [ 94 219]]\n",
            "\n",
            "Accuracy = 0.76667\n",
            "\n",
            "F1 Score = 0.75779\n",
            "\n",
            "Classification Report:\n",
            "              precision    recall  f1-score   support\n",
            "\n",
            "           0       0.72      0.84      0.77       287\n",
            "           1       0.83      0.70      0.76       313\n",
            "\n",
            "    accuracy                           0.77       600\n",
            "   macro avg       0.77      0.77      0.77       600\n",
            "weighted avg       0.78      0.77      0.77       600\n",
            "\n"
          ],
          "name": "stdout"
        }
      ]
    },
    {
      "cell_type": "code",
      "metadata": {
        "colab": {
          "base_uri": "https://localhost:8080/"
        },
        "id": "L3hkD4u7OemF",
        "outputId": "80c66940-753d-4be1-d775-c3a3ecf76fc7"
      },
      "source": [
        "from sklearn.metrics import confusion_matrix\n",
        "from sklearn.metrics import classification_report, f1_score, accuracy_score\n",
        "\n",
        "pred_val = knn_tuned.predict(test_transformed)\n",
        "\n",
        "print(\"Confusion matrix:\")\n",
        "print(confusion_matrix(y_val, pred_val))\n",
        "\n",
        "print(\"\\nAccuracy = {:.5f}\".format(accuracy_score(y_val, pred_val)))\n",
        "\n",
        "print(\"\\nF1 Score = {:.5f}\".format(f1_score(y_val, pred_val)))\n",
        "\n",
        "print(\"\\nClassification Report:\")\n",
        "print(classification_report(y_val, pred_val))"
      ],
      "execution_count": null,
      "outputs": [
        {
          "output_type": "stream",
          "text": [
            "Confusion matrix:\n",
            "[[234  53]\n",
            " [ 91 222]]\n",
            "\n",
            "Accuracy = 0.76000\n",
            "\n",
            "F1 Score = 0.75510\n",
            "\n",
            "Classification Report:\n",
            "              precision    recall  f1-score   support\n",
            "\n",
            "           0       0.72      0.82      0.76       287\n",
            "           1       0.81      0.71      0.76       313\n",
            "\n",
            "    accuracy                           0.76       600\n",
            "   macro avg       0.76      0.76      0.76       600\n",
            "weighted avg       0.77      0.76      0.76       600\n",
            "\n"
          ],
          "name": "stdout"
        }
      ]
    },
    {
      "cell_type": "markdown",
      "metadata": {
        "id": "UyEASupSCrq-"
      },
      "source": [
        "#### Conclusion: The tuned random forest model netted the best accuracy and F1 score."
      ]
    },
    {
      "cell_type": "markdown",
      "metadata": {
        "id": "vn2AleEQ0wjU"
      },
      "source": [
        "### Dig into root cause of classification issues."
      ]
    },
    {
      "cell_type": "code",
      "metadata": {
        "colab": {
          "base_uri": "https://localhost:8080/",
          "height": 304
        },
        "id": "Rgz-HwiGCsfd",
        "outputId": "29ae682a-f0b3-4a23-acd9-3bddc1e842d9"
      },
      "source": [
        "#Combine predictions with actual polarity values and filter for false positives and false negatives\n",
        "final_review = df_2\n",
        "final_review['Predicted Values'] = pred_val"
      ],
      "execution_count": null,
      "outputs": [
        {
          "output_type": "stream",
          "text": [
            "/usr/local/lib/python3.7/dist-packages/ipykernel_launcher.py:3: SettingWithCopyWarning: \n",
            "A value is trying to be set on a copy of a slice from a DataFrame.\n",
            "Try using .loc[row_indexer,col_indexer] = value instead\n",
            "\n",
            "See the caveats in the documentation: https://pandas.pydata.org/pandas-docs/stable/user_guide/indexing.html#returning-a-view-versus-a-copy\n",
            "  This is separate from the ipykernel package so we can avoid doing imports until\n"
          ],
          "name": "stderr"
        },
        {
          "output_type": "execute_result",
          "data": {
            "text/html": [
              "<div>\n",
              "<style scoped>\n",
              "    .dataframe tbody tr th:only-of-type {\n",
              "        vertical-align: middle;\n",
              "    }\n",
              "\n",
              "    .dataframe tbody tr th {\n",
              "        vertical-align: top;\n",
              "    }\n",
              "\n",
              "    .dataframe thead th {\n",
              "        text-align: right;\n",
              "    }\n",
              "</style>\n",
              "<table border=\"1\" class=\"dataframe\">\n",
              "  <thead>\n",
              "    <tr style=\"text-align: right;\">\n",
              "      <th></th>\n",
              "      <th>Sentence</th>\n",
              "      <th>Polarity</th>\n",
              "      <th>Sentence_clean</th>\n",
              "      <th>Lexicon-based Polarity Calc</th>\n",
              "      <th>Lexicon-based Subjectivity Calc</th>\n",
              "      <th>Lexicon-based Polarity Dummy Calc</th>\n",
              "      <th>Predicted Values</th>\n",
              "    </tr>\n",
              "  </thead>\n",
              "  <tbody>\n",
              "    <tr>\n",
              "      <th>0</th>\n",
              "      <td>A good commentary of today's love and undoubte...</td>\n",
              "      <td>1</td>\n",
              "      <td>good commentary today love undoubtedly film wo...</td>\n",
              "      <td>0.500000</td>\n",
              "      <td>0.433333</td>\n",
              "      <td>1</td>\n",
              "      <td>1</td>\n",
              "    </tr>\n",
              "    <tr>\n",
              "      <th>1</th>\n",
              "      <td>For people who are first timers in film making...</td>\n",
              "      <td>1</td>\n",
              "      <td>people first timer film making think excellent...</td>\n",
              "      <td>0.625000</td>\n",
              "      <td>0.666667</td>\n",
              "      <td>1</td>\n",
              "      <td>1</td>\n",
              "    </tr>\n",
              "    <tr>\n",
              "      <th>2</th>\n",
              "      <td>It was very popular when I was in the cinema, ...</td>\n",
              "      <td>1</td>\n",
              "      <td>popular cinema good house good reaction plenty...</td>\n",
              "      <td>0.575000</td>\n",
              "      <td>0.550000</td>\n",
              "      <td>1</td>\n",
              "      <td>1</td>\n",
              "    </tr>\n",
              "    <tr>\n",
              "      <th>3</th>\n",
              "      <td>It's a feel-good film and that's how I felt wh...</td>\n",
              "      <td>1</td>\n",
              "      <td>feel good film thats felt came cinema</td>\n",
              "      <td>0.700000</td>\n",
              "      <td>0.600000</td>\n",
              "      <td>1</td>\n",
              "      <td>1</td>\n",
              "    </tr>\n",
              "    <tr>\n",
              "      <th>4</th>\n",
              "      <td>It has northern humour and positive about the ...</td>\n",
              "      <td>1</td>\n",
              "      <td>northern humour positive community represents</td>\n",
              "      <td>0.227273</td>\n",
              "      <td>0.545455</td>\n",
              "      <td>1</td>\n",
              "      <td>1</td>\n",
              "    </tr>\n",
              "  </tbody>\n",
              "</table>\n",
              "</div>"
            ],
            "text/plain": [
              "                                            Sentence  ...  Predicted Values\n",
              "0  A good commentary of today's love and undoubte...  ...                 1\n",
              "1  For people who are first timers in film making...  ...                 1\n",
              "2  It was very popular when I was in the cinema, ...  ...                 1\n",
              "3  It's a feel-good film and that's how I felt wh...  ...                 1\n",
              "4  It has northern humour and positive about the ...  ...                 1\n",
              "\n",
              "[5 rows x 7 columns]"
            ]
          },
          "metadata": {
            "tags": []
          },
          "execution_count": 92
        }
      ]
    },
    {
      "cell_type": "code",
      "metadata": {
        "id": "q1a5P1K8P35O"
      },
      "source": [
        "filtered_review = final_review.loc[final_review['Polarity'] != final_review['Predicted Values']]"
      ],
      "execution_count": null,
      "outputs": []
    },
    {
      "cell_type": "code",
      "metadata": {
        "colab": {
          "base_uri": "https://localhost:8080/",
          "height": 797
        },
        "id": "sHNqCfAiRRki",
        "outputId": "6c1d7b42-3eb3-4f04-ecf7-b985f323e127"
      },
      "source": [
        "pd.set_option('display.max_colwidth', None)\n",
        "filtered_review.head(20)"
      ],
      "execution_count": null,
      "outputs": [
        {
          "output_type": "execute_result",
          "data": {
            "text/html": [
              "<div>\n",
              "<style scoped>\n",
              "    .dataframe tbody tr th:only-of-type {\n",
              "        vertical-align: middle;\n",
              "    }\n",
              "\n",
              "    .dataframe tbody tr th {\n",
              "        vertical-align: top;\n",
              "    }\n",
              "\n",
              "    .dataframe thead th {\n",
              "        text-align: right;\n",
              "    }\n",
              "</style>\n",
              "<table border=\"1\" class=\"dataframe\">\n",
              "  <thead>\n",
              "    <tr style=\"text-align: right;\">\n",
              "      <th></th>\n",
              "      <th>Sentence</th>\n",
              "      <th>Polarity</th>\n",
              "      <th>Sentence_clean</th>\n",
              "      <th>Lexicon-based Polarity Calc</th>\n",
              "      <th>Lexicon-based Subjectivity Calc</th>\n",
              "      <th>Lexicon-based Polarity Dummy Calc</th>\n",
              "      <th>Predicted Values</th>\n",
              "    </tr>\n",
              "  </thead>\n",
              "  <tbody>\n",
              "    <tr>\n",
              "      <th>12</th>\n",
              "      <td>Not too screamy not to masculine but just right.</td>\n",
              "      <td>1</td>\n",
              "      <td>not scream not masculine right</td>\n",
              "      <td>0.117857</td>\n",
              "      <td>0.417857</td>\n",
              "      <td>1</td>\n",
              "      <td>0</td>\n",
              "    </tr>\n",
              "    <tr>\n",
              "      <th>15</th>\n",
              "      <td>As a European, the movie is a nice throwback to my time as a student in the 1980's and the experiences I had living abroad and interacting with other nationalities, although the circumstances were slightly different.</td>\n",
              "      <td>1</td>\n",
              "      <td>european movie nice throwback time student experience living abroad interacting nationality although circumstance slightly different</td>\n",
              "      <td>0.200000</td>\n",
              "      <td>0.533333</td>\n",
              "      <td>1</td>\n",
              "      <td>0</td>\n",
              "    </tr>\n",
              "    <tr>\n",
              "      <th>21</th>\n",
              "      <td>This movie is excellent!Angel is beautiful and Scamp is adorable!His little yelps when hes scared,and the funniest parts are when:Scamp is caught under the curtain and when Angel and Scamp are singing 'Ive Never Had This Feeling Before'.I totally recommend this movie,its coming out on special edition on June 20.The cover has scamp on a garbage can and Angel underneath the lid.</td>\n",
              "      <td>1</td>\n",
              "      <td>movie excellentangel beautiful camp adorablehis little help he scaredand funniest part whenscamp caught curtain angel camp singing ive never feeling totally recommend movie coming special edition june cover camp garbage angel underneath lid</td>\n",
              "      <td>0.254911</td>\n",
              "      <td>0.705357</td>\n",
              "      <td>1</td>\n",
              "      <td>0</td>\n",
              "    </tr>\n",
              "    <tr>\n",
              "      <th>33</th>\n",
              "      <td>It came free with a DVD player I bought but I still turned the thing off halfway through because I was embarrassed for Howell.</td>\n",
              "      <td>0</td>\n",
              "      <td>came free dvd player bought still turned thing halfway embarrassed powell</td>\n",
              "      <td>0.400000</td>\n",
              "      <td>0.800000</td>\n",
              "      <td>1</td>\n",
              "      <td>1</td>\n",
              "    </tr>\n",
              "    <tr>\n",
              "      <th>36</th>\n",
              "      <td>The soundtrack wasn't terrible, either.</td>\n",
              "      <td>1</td>\n",
              "      <td>soundtrack wasnt terrible either</td>\n",
              "      <td>-1.000000</td>\n",
              "      <td>1.000000</td>\n",
              "      <td>0</td>\n",
              "      <td>0</td>\n",
              "    </tr>\n",
              "    <tr>\n",
              "      <th>38</th>\n",
              "      <td>Still, it was the SETS that got a big \"10\" on my \"oy-vey\" scale.</td>\n",
              "      <td>1</td>\n",
              "      <td>still set got big scale</td>\n",
              "      <td>0.000000</td>\n",
              "      <td>0.100000</td>\n",
              "      <td>0</td>\n",
              "      <td>0</td>\n",
              "    </tr>\n",
              "    <tr>\n",
              "      <th>43</th>\n",
              "      <td>The last 15 minutes of movie are also not bad as well.</td>\n",
              "      <td>1</td>\n",
              "      <td>last minute movie also not bad well</td>\n",
              "      <td>0.175000</td>\n",
              "      <td>0.366667</td>\n",
              "      <td>1</td>\n",
              "      <td>0</td>\n",
              "    </tr>\n",
              "    <tr>\n",
              "      <th>48</th>\n",
              "      <td>My 8/10 score is mostly for the plot.</td>\n",
              "      <td>1</td>\n",
              "      <td>score mostly plot</td>\n",
              "      <td>0.500000</td>\n",
              "      <td>0.500000</td>\n",
              "      <td>1</td>\n",
              "      <td>0</td>\n",
              "    </tr>\n",
              "    <tr>\n",
              "      <th>51</th>\n",
              "      <td>Not frightening in the least, and barely comprehensible.</td>\n",
              "      <td>0</td>\n",
              "      <td>not frightening least barely comprehensible</td>\n",
              "      <td>0.116667</td>\n",
              "      <td>0.700000</td>\n",
              "      <td>1</td>\n",
              "      <td>1</td>\n",
              "    </tr>\n",
              "    <tr>\n",
              "      <th>53</th>\n",
              "      <td>Not even good for camp value!</td>\n",
              "      <td>0</td>\n",
              "      <td>not even good camp value</td>\n",
              "      <td>0.700000</td>\n",
              "      <td>0.600000</td>\n",
              "      <td>1</td>\n",
              "      <td>1</td>\n",
              "    </tr>\n",
              "    <tr>\n",
              "      <th>62</th>\n",
              "      <td>Considering the relations off screen between Taylor and Stanwyck, it was surprising how little chemistry there was on screen between the two of them.</td>\n",
              "      <td>0</td>\n",
              "      <td>considering relation screen taylor stanwyck surprising little chemistry screen two</td>\n",
              "      <td>0.256250</td>\n",
              "      <td>0.500000</td>\n",
              "      <td>1</td>\n",
              "      <td>1</td>\n",
              "    </tr>\n",
              "    <tr>\n",
              "      <th>69</th>\n",
              "      <td>A cheap and cheerless heist movie with poor characterisation, lots of underbite style stoic emoting (think Chow Yun Fat in A Better Tomorrow) and some cheesy clichés thrown into an abandoned factory ready for a few poorly executed flying judo rolls a la John Woo.</td>\n",
              "      <td>0</td>\n",
              "      <td>cheap cheerless heist movie poor characterisation lot underside style stic editing think chow yun fat better tomorrow cheese click thrown abandoned factory ready poorly executed flying judo roll la john woo</td>\n",
              "      <td>0.060000</td>\n",
              "      <td>0.580000</td>\n",
              "      <td>1</td>\n",
              "      <td>1</td>\n",
              "    </tr>\n",
              "    <tr>\n",
              "      <th>80</th>\n",
              "      <td>The acting by the whole cast could be put on a scale and balanced perfectly between overacting and underacting.</td>\n",
              "      <td>0</td>\n",
              "      <td>acting whole cast could put scale balanced perfectly operating interacting</td>\n",
              "      <td>0.400000</td>\n",
              "      <td>0.466667</td>\n",
              "      <td>1</td>\n",
              "      <td>1</td>\n",
              "    </tr>\n",
              "    <tr>\n",
              "      <th>81</th>\n",
              "      <td>And, FINALLY, after all that, we get to an ending that would've been great had it been handled by competent people and not Jerry Falwell.</td>\n",
              "      <td>0</td>\n",
              "      <td>finally get ending would great handled competent people not jerry farewell</td>\n",
              "      <td>0.433333</td>\n",
              "      <td>0.805556</td>\n",
              "      <td>1</td>\n",
              "      <td>1</td>\n",
              "    </tr>\n",
              "    <tr>\n",
              "      <th>87</th>\n",
              "      <td>Lifetime does not air it enough, so if anyone knows what store sells it let me know because this is a must-have.</td>\n",
              "      <td>1</td>\n",
              "      <td>lifetime not air enough anyone know store sell let know musthave</td>\n",
              "      <td>0.000000</td>\n",
              "      <td>0.500000</td>\n",
              "      <td>0</td>\n",
              "      <td>0</td>\n",
              "    </tr>\n",
              "    <tr>\n",
              "      <th>88</th>\n",
              "      <td>I particularly remember my senses being assaulted by strident cords of music that would blare out with very little warning, and even less meaning.</td>\n",
              "      <td>0</td>\n",
              "      <td>particularly remember sens assaulted trident cord music would bare little warning even le meaning</td>\n",
              "      <td>0.009722</td>\n",
              "      <td>0.311111</td>\n",
              "      <td>1</td>\n",
              "      <td>1</td>\n",
              "    </tr>\n",
              "    <tr>\n",
              "      <th>89</th>\n",
              "      <td>It is just the sort of pap that is screened in the afternoon to punish the unemployed for not having jobs.</td>\n",
              "      <td>0</td>\n",
              "      <td>sort pap screened afternoon punish unemployed not job</td>\n",
              "      <td>0.000000</td>\n",
              "      <td>0.000000</td>\n",
              "      <td>0</td>\n",
              "      <td>1</td>\n",
              "    </tr>\n",
              "    <tr>\n",
              "      <th>90</th>\n",
              "      <td>Totally different, with loads of understatement and black comedy, this is a film few get to see, but those who do will remember it.</td>\n",
              "      <td>1</td>\n",
              "      <td>totally different load understatement black comedy film get see remember</td>\n",
              "      <td>-0.083333</td>\n",
              "      <td>0.516667</td>\n",
              "      <td>0</td>\n",
              "      <td>0</td>\n",
              "    </tr>\n",
              "    <tr>\n",
              "      <th>92</th>\n",
              "      <td>But this movie really got to me.</td>\n",
              "      <td>1</td>\n",
              "      <td>movie really got</td>\n",
              "      <td>0.200000</td>\n",
              "      <td>0.200000</td>\n",
              "      <td>1</td>\n",
              "      <td>0</td>\n",
              "    </tr>\n",
              "    <tr>\n",
              "      <th>93</th>\n",
              "      <td>See it.</td>\n",
              "      <td>1</td>\n",
              "      <td>see</td>\n",
              "      <td>0.000000</td>\n",
              "      <td>0.000000</td>\n",
              "      <td>0</td>\n",
              "      <td>0</td>\n",
              "    </tr>\n",
              "  </tbody>\n",
              "</table>\n",
              "</div>"
            ],
            "text/plain": [
              "                                                                                                                                                                                                                                                                                                                                                                                         Sentence  ...  Predicted Values\n",
              "12                                                                                                                                                                                                                                                                                                                                             Not too screamy not to masculine but just right.    ...                 0\n",
              "15                                                                                                                                                                     As a European, the movie is a nice throwback to my time as a student in the 1980's and the experiences I had living abroad and interacting with other nationalities, although the circumstances were slightly different.    ...                 0\n",
              "21  This movie is excellent!Angel is beautiful and Scamp is adorable!His little yelps when hes scared,and the funniest parts are when:Scamp is caught under the curtain and when Angel and Scamp are singing 'Ive Never Had This Feeling Before'.I totally recommend this movie,its coming out on special edition on June 20.The cover has scamp on a garbage can and Angel underneath the lid.    ...                 0\n",
              "33                                                                                                                                                                                                                                                               It came free with a DVD player I bought but I still turned the thing off halfway through because I was embarrassed for Howell.    ...                 1\n",
              "36                                                                                                                                                                                                                                                                                                                                                      The soundtrack wasn't terrible, either.    ...                 0\n",
              "38                                                                                                                                                                                                                                                                                                                             Still, it was the SETS that got a big \"10\" on my \"oy-vey\" scale.    ...                 0\n",
              "43                                                                                                                                                                                                                                                                                                                                       The last 15 minutes of movie are also not bad as well.    ...                 0\n",
              "48                                                                                                                                                                                                                                                                                                                                                        My 8/10 score is mostly for the plot.    ...                 0\n",
              "51                                                                                                                                                                                                                                                                                                                                     Not frightening in the least, and barely comprehensible.    ...                 1\n",
              "53                                                                                                                                                                                                                                                                                                                                                                Not even good for camp value!    ...                 1\n",
              "62                                                                                                                                                                                                                                        Considering the relations off screen between Taylor and Stanwyck, it was surprising how little chemistry there was on screen between the two of them.    ...                 1\n",
              "69                                                                                                                      A cheap and cheerless heist movie with poor characterisation, lots of underbite style stoic emoting (think Chow Yun Fat in A Better Tomorrow) and some cheesy clichés thrown into an abandoned factory ready for a few poorly executed flying judo rolls a la John Woo.    ...                 1\n",
              "80                                                                                                                                                                                                                                                                              The acting by the whole cast could be put on a scale and balanced perfectly between overacting and underacting.    ...                 1\n",
              "81                                                                                                                                                                                                                                                    And, FINALLY, after all that, we get to an ending that would've been great had it been handled by competent people and not Jerry Falwell.    ...                 1\n",
              "87                                                                                                                                                                                                                                                                             Lifetime does not air it enough, so if anyone knows what store sells it let me know because this is a must-have.    ...                 0\n",
              "88                                                                                                                                                                                                                                           I particularly remember my senses being assaulted by strident cords of music that would blare out with very little warning, and even less meaning.    ...                 1\n",
              "89                                                                                                                                                                                                                                                                                   It is just the sort of pap that is screened in the afternoon to punish the unemployed for not having jobs.    ...                 1\n",
              "90                                                                                                                                                                                                                                                          Totally different, with loads of understatement and black comedy, this is a film few get to see, but those who do will remember it.    ...                 0\n",
              "92                                                                                                                                                                                                                                                                                                                                                             But this movie really got to me.    ...                 0\n",
              "93                                                                                                                                                                                                                                                                                                                                                                                      See it.    ...                 0\n",
              "\n",
              "[20 rows x 7 columns]"
            ]
          },
          "metadata": {
            "tags": []
          },
          "execution_count": 96
        }
      ]
    },
    {
      "cell_type": "markdown",
      "metadata": {
        "id": "dLchTDDH0wjU"
      },
      "source": [
        "####The following are 5 examples that were predicted incorrectly:\n",
        "1. \"**See it.**\", Predicted=0, Actual=1, (index=93)\n",
        "2. \"**My 8/10 score is mostly for the plot.**\", Predicted=0, Actual=1, (index=48)\n",
        "3. \"**Still, it was the SETS that got a big \"10\" on my \"oy-vey\" scale.**\", Predicted=0, Actual=1, (index=38)\n",
        "4. \"**Lifetime does not air it enough, so if anyone knows what store sells it let me know because this is a must-have.**\", Predicted=0, Actual=1, (index=87)\n",
        "5. \"**This movie is excellent!Angel is beautiful and Scamp is adorable!His little yelps when hes scared,and the funniest parts are when:Scamp is caught under the curtain and when Angel and Scamp are singing 'Ive Never Had This Feeling Before'.I totally recommend this movie,its coming out on special edition on June 20.The cover has scamp on a garbage can and Angel underneath the lid.**\", Predicted=0, Actual=1, (index=21)\n",
        "\n",
        "\n"
      ]
    },
    {
      "cell_type": "markdown",
      "metadata": {
        "id": "VSR54roiWPcK"
      },
      "source": [
        "**Example 1** demonstrates a one-off error and how tricky language is due to meaning and quality. 'See it' is ambiguously describing a command to watch a film with a subtle inference that it worth watching. This is extremely challenging to capture in sentiment analysis and is also a rare example of a review.\n",
        "\n",
        "**Example 2** demonstrates a systematic modelling weakness. Despite a '8/10 score' denoting positive sentiment, the preprocessing was set up to remove punctuation and numbers. It is also difficult to build this interpretation into the preprocessing as it could be described in a number of different ways, from '8 out of 10' to 'eight out of ten'. Furthermore, there could be a different scale such as 'two thumbs up' or 'five stars'. Therefore, this example is also demonstrating the challenges of meaning and quality in the human language. \n",
        "\n",
        "**Example 3** demonstrates another systematic modelling weakness. Similarly the 'big 10' infers a positive sentiment, but the preprocessing is currently set up to remove numbers. The other piece of this review is the 'oy-vey' scale. On one hand, 'oy-vey' is slang in the form of a Yiddish phrase that originally expressed grief. However, it appears to infer a positive result here. Furthermore, the original author placed punctuation all around the comment, which would break it up into 'oy' and 'vey' before getting completely removed during preprocessing.\n",
        "\n",
        "**Example 4** demonstrates additional difficulties with the human language. The beginning relates to some out-of-context information about Lifetime, an American cable channel, not airing the film enough. It would be challenging to understand the polarity of this statement with sentiment analysis and is an example of a one-off error. The modelling weakness comes with the phrase 'must-have' being concatenated into 'musthave' after punctuation was removed. It could be argued that the preprocessing should be tweaked to capture 'must-have' as a positive sentiment phrase.\n",
        "\n",
        "**Example 5** demonstrates systematic modelling weakness that plagues the results of this existing model. There appear to be various authors throughout the dataset that do not space the review appropriately. While not included in this specific example, this regularly took the form of joining sentences with '...' or other punctuation. The existing preprocessing would remove the punctuation characters thereby joining words together to the point that the spellcheck could not differentiate the two joined words. Therefore, it would be worth exploring a step to replace the punctuation with a space character and then after removing any leading or trailing space characters to adjust for this occurrence."
      ]
    }
  ]
}